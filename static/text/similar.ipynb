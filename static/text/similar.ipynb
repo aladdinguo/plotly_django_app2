{
 "cells": [
  {
   "cell_type": "code",
   "execution_count": 91,
   "metadata": {},
   "outputs": [
    {
     "name": "stdout",
     "output_type": "stream",
     "text": [
      "['现在客户来银行有时候想看存款利息都地问工作人员，但是有时候太忙没有时间，客户就流失啦，要是在每个网点电视屏幕上显现理财存款利息广告一样，客户有喜欢的就会直接来购买，比较方便营销。']\n",
      "现在客户来银行有时候想看存款利息都地问工作人员，但是有时候太忙没有时间，客户就流失啦，要是在每个网点电视屏幕上显现理财存款利息广告一样，客户有喜欢的就会直接来购买，比较方便营销。\n",
      "[['客户', '来', '银行', '有时候', '想', '看', '存款', '利息', '地', '问', '工作人员', '有时候', '忙', '没有', '时间', '客户', '流失', '网点', '电视屏幕', '显现', '理财', '存款', '利息', '广告', '客户', '有', '喜欢', '会', '直接', '来', '购买', '方便', '营销']]\n",
      "1\n",
      "[[(0, 1), (1, 2), (2, 1), (3, 1), (4, 2), (5, 3), (6, 1), (7, 1), (8, 1), (9, 1), (10, 1), (11, 1), (12, 1), (13, 1), (14, 2), (15, 2), (16, 1), (17, 1), (18, 1), (19, 1), (20, 1), (21, 1), (22, 1), (23, 1), (24, 1), (25, 1), (26, 1)]]\n",
      "开始 [(0, 1), (1, 2), (2, 1), (3, 1), (4, 2), (5, 3), (6, 1), (7, 1), (8, 1), (9, 1), (10, 1), (11, 1), (12, 1), (13, 1), (14, 2), (15, 2), (16, 1), (17, 1), (18, 1), (19, 1), (20, 1), (21, 1), (22, 1), (23, 1), (24, 1), (25, 1), (26, 1)]\n"
     ]
    }
   ],
   "source": [
    "from django.shortcuts import render\n",
    "from django.views.generic import ListView\n",
    "from django.db.models import Count\n",
    "from django.shortcuts import render, HttpResponse, redirect\n",
    "from django.db.models import F, Q\n",
    "import codecs\n",
    "import jieba.posseg as psg\n",
    "from gensim import corpora, models, similarities\n",
    "txt='现在客户来银行有时候想看存款利息都地问工作人员，但是有时候太忙没有时间，客户就流失啦，要是在每个网点电视屏幕上显现理财存款利息广告一样，客户有喜欢的就会直接来购买，比较方便营销。'\n",
    "#txt1='现在的业务中，尾箱交接和重要物品交接为两个交易，大多数柜员在处理尾箱交接的时候，容易忘记重要物品的交接，尤其是作废卡、印章等的交接。此两项交接分属两个界面，尤其是临时接替的柜员，容易忽视重要物品的交接，导致交接超时或不交接，通过界面的归并或者统一柜员下的重要物品随尾箱的交接的同时，可以很快让柜员发现是否有未交接的物品，及时的进行交接登记。'\n",
    "textall=[txt]\n",
    "#textall.append(txt)\n",
    "print(textall)\n",
    "#textall.append(txt1)\n",
    "stopwords = codecs.open('/Users/swguo/Downloads/Python_program/plotly_django_app2/static/text/stopwords.txt', 'r', encoding='utf8').readline() #读取停用词\n",
    "stopwords = [w.strip() for w in stopwords]\n",
    "stop_flag = ['x', 'c', 'u', 'd', 'p', 't', 'uj', 'm', 'f', 'r','y']\n",
    "all_doc_list = []\n",
    "for doc in textall:\n",
    "    print(doc)\n",
    "    result = []\n",
    "    for word, flag in psg.cut(doc):\n",
    "        if flag not in stop_flag and word not in stopwords:\n",
    "            result.append(word)\n",
    "    all_doc_list.append(result)\n",
    "print(all_doc_list)\n",
    "print(len(textall))\n",
    "dictionary=corpora.Dictionary(all_doc_list)\n",
    "doc_vectors=[dictionary.doc2bow(text) for text in all_doc_list]\n",
    "print(doc_vectors)\n",
    "for siglelist in doc_vectors:\n",
    "    print('开始',siglelist)\n"
   ]
  },
  {
   "cell_type": "code",
   "execution_count": 28,
   "metadata": {},
   "outputs": [
    {
     "name": "stdout",
     "output_type": "stream",
     "text": [
      "['客户', '来', '银行', '有时候', '想', '看', '存款', '利息', '地', '问', '工作人员', '有时候', '忙', '没有', '时间', '客户', '流失', '啦', '网点', '电视屏幕', '显现', '理财', '存款', '利息', '广告', '客户', '有', '喜欢', '会', '直接', '来', '购买', '方便', '营销']\n"
     ]
    }
   ],
   "source": []
  },
  {
   "cell_type": "code",
   "execution_count": null,
   "metadata": {},
   "outputs": [],
   "source": []
  },
  {
   "cell_type": "code",
   "execution_count": null,
   "metadata": {},
   "outputs": [],
   "source": []
  }
 ],
 "metadata": {
  "kernelspec": {
   "display_name": "Python 3",
   "language": "python",
   "name": "python3"
  },
  "language_info": {
   "codemirror_mode": {
    "name": "ipython",
    "version": 3
   },
   "file_extension": ".py",
   "mimetype": "text/x-python",
   "name": "python",
   "nbconvert_exporter": "python",
   "pygments_lexer": "ipython3",
   "version": "3.7.3"
  }
 },
 "nbformat": 4,
 "nbformat_minor": 2
}
